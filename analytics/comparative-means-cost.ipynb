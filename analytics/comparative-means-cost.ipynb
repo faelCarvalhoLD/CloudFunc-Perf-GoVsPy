{
 "cells": [
  {
   "cell_type": "code",
   "execution_count": 5,
   "metadata": {},
   "outputs": [
    {
     "name": "stdout",
     "output_type": "stream",
     "text": [
      "Go Cost: $0.00005\n",
      "Python Cost: $0.00113\n",
      "Python é 24.38965 maior\n"
     ]
    },
    {
     "data": {
      "image/png": "[encoded data removed]",
      "text/plain": [
       "<Figure size 432x288 with 1 Axes>"
      ]
     },
     "metadata": {
      "needs_background": "light"
     },
     "output_type": "display_data"
    }
   ],
   "source": [
    "import pandas as pd\n",
    "import matplotlib.pyplot as plt\n",
    "\n",
    "def load_metrics(file_path):\n",
    "    return pd.read_csv(file_path)\n",
    "\n",
    "def analyze_data(df):\n",
    "    df['timestamp'] = pd.to_datetime(df['timestamp'])\n",
    "    total_time_seconds = (df['timestamp'].iloc[-1] - df['timestamp'].iloc[0]).total_seconds()\n",
    "    avg_memory_gb = df['mem_usage'].mean() / 1024  # Convertendo MiB para GiB\n",
    "    avg_cpu_usage = df['cpu_usage'].mean()\n",
    "    return total_time_seconds, avg_memory_gb, avg_cpu_usage\n",
    "\n",
    "def calculate_cost(total_time_seconds, avg_memory_gb, avg_cpu_usage, num_invocations, memoria_mb=128, vcpu=0.083,\n",
    "                   preco_100ms_nivel1=0.000000231):\n",
    "    total_100ms_blocks = total_time_seconds / 0.1\n",
    "    \n",
    "    adjusted_cpu_factor = (avg_cpu_usage / 100) / vcpu \n",
    "    memory_cost = avg_memory_gb * total_100ms_blocks * preco_100ms_nivel1 * adjusted_cpu_factor\n",
    "    \n",
    "    total_cost = memory_cost\n",
    "    return total_cost\n",
    "\n",
    "def main():\n",
    "\n",
    "    golang_file = 'container_metrics_golang_scraping.csv'\n",
    "    python_file = 'container_metrics_python_scraping.csv'\n",
    "    \n",
    "    golang_metrics = load_metrics(golang_file)\n",
    "    python_metrics = load_metrics(python_file)\n",
    "    \n",
    "    go_time, go_mem, go_cpu = analyze_data(golang_metrics)\n",
    "    py_time, py_mem, py_cpu = analyze_data(python_metrics)\n",
    "    \n",
    "    go_cost = calculate_cost(go_time, go_mem, go_cpu, len(golang_metrics['container_id'].unique()))\n",
    "    py_cost = calculate_cost(py_time, py_mem, py_cpu, len(python_metrics['container_id'].unique()))\n",
    "    \n",
    "    print(f\"Go Cost: ${go_cost:.5f}\")\n",
    "    print(f\"Python Cost: ${py_cost:.5f}\")\n",
    "    print(f\"Python é {py_cost/go_cost:.5f} maior\" )\n",
    "    \n",
    "    \n",
    "    labels = ['Go', 'Python']\n",
    "    costs = [go_cost, py_cost]\n",
    "    plt.bar(labels, costs, color=['blue', 'red'])\n",
    "    plt.ylabel('Cost')\n",
    "    plt.title('Cost Comparison: Go vs Python')\n",
    "    plt.show()\n",
    "\n",
    "main()\n"
   ]
  },
  {
   "cell_type": "code",
   "execution_count": 5,
   "metadata": {},
   "outputs": [
    {
     "ename": "NameError",
     "evalue": "name 'py_cost' is not defined",
     "output_type": "error",
     "traceback": [
      "\u001b[0;31m---------------------------------------------------------------------------\u001b[0m",
      "\u001b[0;31mNameError\u001b[0m                                 Traceback (most recent call last)",
      "\u001b[0;32m<ipython-input-5-916c87af0066>\u001b[0m in \u001b[0;36m<module>\u001b[0;34m\u001b[0m\n\u001b[0;32m----> 1\u001b[0;31m \u001b[0mpy_cost\u001b[0m\u001b[0;34m/\u001b[0m\u001b[0mgo_cost\u001b[0m\u001b[0;34m\u001b[0m\u001b[0;34m\u001b[0m\u001b[0m\n\u001b[0m",
      "\u001b[0;31mNameError\u001b[0m: name 'py_cost' is not defined"
     ]
    }
   ],
   "source": [
    "py_cost/go_cost"
   ]
  },
  {
   "cell_type": "code",
   "execution_count": null,
   "metadata": {},
   "outputs": [],
   "source": []
  }
 ],
 "metadata": {
  "kernelspec": {
   "display_name": "Python 3",
   "language": "python",
   "name": "python3"
  },
  "language_info": {
   "codemirror_mode": {
    "name": "ipython",
    "version": 3
   },
   "file_extension": ".py",
   "mimetype": "text/x-python",
   "name": "python",
   "nbconvert_exporter": "python",
   "pygments_lexer": "ipython3",
   "version": "3.8.10"
  }
 },
 "nbformat": 4,
 "nbformat_minor": 4
}
